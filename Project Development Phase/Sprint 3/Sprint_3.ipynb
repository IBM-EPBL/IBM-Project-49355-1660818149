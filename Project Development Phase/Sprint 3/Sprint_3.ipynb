{
  "nbformat": 4,
  "nbformat_minor": 0,
  "metadata": {
    "colab": {
      "provenance": [],
      "collapsed_sections": []
    },
    "kernelspec": {
      "name": "python3",
      "display_name": "Python 3"
    },
    "language_info": {
      "name": "python"
    }
  },
  "cells": [
    {
      "cell_type": "code",
      "source": [
        "def daily_demand(mean, sd, probability):\n",
        "    random_num = np.random.uniform(0, 1)\n",
        "    if random_num > probability:\n",
        "        return 0\n",
        "    else:\n",
        "        return np.exp(np.random.normal(mean, sd))"
      ],
      "metadata": {
        "id": "zC_AMXHDhSRH"
      },
      "execution_count": 18,
      "outputs": []
    },
    {
      "cell_type": "code",
      "execution_count": 19,
      "metadata": {
        "id": "Jwd32hjVaoU1"
      },
      "outputs": [],
      "source": [
        "def calculate_profit(data, product):\n",
        "    unit_cost = product.unit_cost\n",
        "    selling_price = product.selling_price\n",
        "    holding_cost = product.holding_cost\n",
        "    order_cost = product.ordering_cost\n",
        "    size = product.size\n",
        "    days = 365\n",
        "\n",
        "    revenue = sum(data['units_sold']) * selling_price\n",
        "    Co = len(data['orders']) * order_cost\n",
        "    Ch = sum(data['inv_level']) * holding_cost * size * (1 / days)\n",
        "    cost = sum(data['orders']) * unit_cost\n",
        "\n",
        "    profit = revenue - cost - Co - Ch\n",
        "\n",
        "    return profit"
      ]
    },
    {
      "cell_type": "code",
      "source": [
        "def monte_carlo_ray(M, product, review_period=30):\n",
        "    inventory = product.starting_stock\n",
        "    mean = product.mean\n",
        "    sd = product.sd\n",
        "    lead_time = product.lead_time\n",
        "    probability = product.probability\n",
        "    demand_lead = product.demand_lead\n",
        "\n",
        "    q = 0\n",
        "    stock_out = 0\n",
        "    counter = 0\n",
        "    order_placed = False\n",
        "    # dictionary to store all the information\n",
        "    data = {'inv_level': [], 'daily_demand': [], 'units_sold': [], 'units_lost': [], 'orders': []}\n",
        "\n",
        "    for day in range(1, 365):\n",
        "        day_demand = daily_demand(mean, sd, probability)\n",
        "        data['daily_demand'].append(day_demand)\n",
        "\n",
        "        if day % review_period == 0:\n",
        "            # Placing the order\n",
        "            q = M - inventory + demand_lead\n",
        "            order_placed = True\n",
        "            data['orders'].append(q)\n",
        "            \n",
        "            \n",
        "        if order_placed:\n",
        "            counter += 1\n",
        "        \n",
        "        if counter == lead_time:\n",
        "            # Restocking day\n",
        "            inventory += q\n",
        "            order_placed = False\n",
        "            counter = 0\n",
        "\n",
        "        if inventory - day_demand >= 0:\n",
        "            data['units_sold'].append(day_demand)\n",
        "            inventory -= day_demand\n",
        "        elif inventory - day_demand < 0:\n",
        "            data['units_sold'].append(inventory)\n",
        "            data['units_lost'].append(day_demand - inventory)\n",
        "            inventory = 0\n",
        "            stock_out += 1\n",
        "\n",
        "        data['inv_level'].append(inventory)\n",
        "\n",
        "    return data"
      ],
      "metadata": {
        "id": "gOqdsDFihB23"
      },
      "execution_count": 20,
      "outputs": []
    },
    {
      "cell_type": "code",
      "source": [
        "def cc_monte_carlo_ray(product, q, r):\n",
        "    inventory = product.starting_stock\n",
        "    mean = product.mean\n",
        "    sd = product.sd\n",
        "    lead_time = product.lead_time\n",
        "    probability = product.probability\n",
        "\n",
        "    order_placed = False\n",
        "    order_time = 0\n",
        "    stock_out = 0\n",
        "    # dictionary to store all the information\n",
        "    data = {'inv_level': [], 'daily_demand': [], 'units_sold': [], 'units_lost': [], 'orders': []}\n",
        "\n",
        "    \n",
        "    for day in range(1, 365):\n",
        "        day_demand = daily_demand(mean, sd, probability)\n",
        "        data['daily_demand'].append(day_demand)\n",
        "\n",
        "        if inventory <= r and not order_placed:\n",
        "            # Time to place an order\n",
        "            order_placed = True\n",
        "            order_time = day\n",
        "\n",
        "        if order_placed and (day-order_time) == lead_time:\n",
        "            data['orders'].append(q)\n",
        "            inventory += q\n",
        "            order_placed = False\n",
        "            order_time = 0\n",
        "            \n",
        "        if inventory - day_demand >= 0:\n",
        "            data['units_sold'].append(day_demand)\n",
        "            inventory -= day_demand\n",
        "        elif inventory - day_demand < 0:\n",
        "            data['units_sold'].append(inventory)\n",
        "            data['units_lost'].append(day_demand - inventory)\n",
        "            inventory = 0\n",
        "            stock_out += 1\n",
        "\n",
        "        data['inv_level'].append(inventory)\n",
        "\n",
        "    return data"
      ],
      "metadata": {
        "id": "cftnhaJBa3S0"
      },
      "execution_count": 21,
      "outputs": []
    }
  ]
}